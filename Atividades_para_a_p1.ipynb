{
  "nbformat": 4,
  "nbformat_minor": 0,
  "metadata": {
    "colab": {
      "provenance": [],
      "authorship_tag": "ABX9TyNtpn9aiM/nNaxPAb9LkjoX",
      "include_colab_link": true
    },
    "kernelspec": {
      "name": "python3",
      "display_name": "Python 3"
    },
    "language_info": {
      "name": "python"
    }
  },
  "cells": [
    {
      "cell_type": "markdown",
      "metadata": {
        "id": "view-in-github",
        "colab_type": "text"
      },
      "source": [
        "<a href=\"https://colab.research.google.com/github/TatianePadilhaS/TatianePS/blob/main/Atividades_para_a_p1.ipynb\" target=\"_parent\"><img src=\"https://colab.research.google.com/assets/colab-badge.svg\" alt=\"Open In Colab\"/></a>"
      ]
    },
    {
      "cell_type": "code",
      "source": [
        "# Importando as bibliotecas\n",
        "import numpy as np\n",
        "import math"
      ],
      "metadata": {
        "id": "cB-w6Zve5SDZ"
      },
      "execution_count": null,
      "outputs": []
    },
    {
      "cell_type": "markdown",
      "source": [
        "# Exercício de condicionais (IF/ELIF/ELSE)\n",
        "\n",
        "\n"
      ],
      "metadata": {
        "id": "FQu8oSMZ5AU5"
      }
    },
    {
      "cell_type": "code",
      "source": [
        "\"\"\" Temperatura ideal varia conforme as fases\n",
        "Fase 1: Temperatura deve ser entre 50ºC e 70ºC\n",
        "Fase 2: Temperatura deve ser entre 71ºC e 90ºC\n",
        "Fora dessas faixas: Emitir alerta de \"Temperatura crítica\"\n",
        "\n",
        "\"\"\""
      ],
      "metadata": {
        "id": "fovAj-GxGnFj",
        "colab": {
          "base_uri": "https://localhost:8080/",
          "height": 70
        },
        "outputId": "78bd9ea9-b1f2-4404-897e-2694cbdb8066"
      },
      "execution_count": null,
      "outputs": [
        {
          "output_type": "execute_result",
          "data": {
            "text/plain": [
              "' Temperatura ideal varia conforme as fases\\nFase 1: Temperatura deve ser entre 50ºC e 70ºC\\nFase 2: Temperatura deve ser entre 71ºC e 90ºC\\nFora dessas faixas: Emitir alerta de \"Temperatura crítica\"\\n\\n'"
            ],
            "application/vnd.google.colaboratory.intrinsic+json": {
              "type": "string"
            }
          },
          "metadata": {},
          "execution_count": 5
        }
      ]
    },
    {
      "cell_type": "markdown",
      "source": [
        "## Sem imput"
      ],
      "metadata": {
        "id": "qPENvyqFGowS"
      }
    },
    {
      "cell_type": "code",
      "execution_count": null,
      "metadata": {
        "colab": {
          "base_uri": "https://localhost:8080/"
        },
        "id": "-WKePFT343ON",
        "outputId": "c4fcac51-3d8b-43b6-ad4d-f92413a5663b"
      },
      "outputs": [
        {
          "output_type": "stream",
          "name": "stdout",
          "text": [
            "Fase 2: 80 ºC --> Temperatura OK\n"
          ]
        }
      ],
      "source": [
        "# Valores\n",
        "fase = 2\n",
        "temperatura = 80\n",
        "\n",
        "try:\n",
        "    if not isinstance(fase, int):\n",
        "        raise ValueError(\"A fase deve ser um número inteiro.\")\n",
        "\n",
        "    if fase not in [1, 2]:\n",
        "        raise ValueError(\"Fase inválida. Digite 1 ou 2.\")\n",
        "\n",
        "    if not isinstance(temperatura, (int, float)):\n",
        "        raise ValueError(\"A temperatura deve ser um número.\")\n",
        "\n",
        "    if fase == 1:\n",
        "        if 50 <= temperatura <= 70:\n",
        "            print(f\"Fase 1: {temperatura} ºC --> Temperatura OK\")\n",
        "        else:\n",
        "            print(\"ALERTA: Temperatura crítica!\")\n",
        "    elif fase == 2:\n",
        "        if 71 <= temperatura <= 90:\n",
        "            print(f\"Fase 2: {temperatura} ºC --> Temperatura OK\")\n",
        "        else:\n",
        "            print(\"ALERTA: Temperatura crítica!\")\n",
        "\n",
        "except ValueError as e:\n",
        "    print(\"Erro:\", e)\n"
      ]
    },
    {
      "cell_type": "markdown",
      "source": [
        "## Usando input"
      ],
      "metadata": {
        "id": "BZQ0wceyAJ5M"
      }
    },
    {
      "cell_type": "code",
      "source": [
        "try:\n",
        "    fase_str = input(\"Digite a fase do processo (1 ou 2): \")\n",
        "    if not fase_str.isdigit():\n",
        "        raise ValueError(\"A fase deve ser um número inteiro.\")\n",
        "\n",
        "    fase = int(fase_str)\n",
        "\n",
        "    if fase not in [1, 2]:\n",
        "        raise ValueError(\"Fase inválida. Digite 1 ou 2.\")\n",
        "\n",
        "    temperatura = float(input(\"Digite a temperatura atual (em ºC): \"))\n",
        "\n",
        "    if fase == 1:\n",
        "        if 50 <= temperatura <= 70:\n",
        "            print(f\"Fase 1: {temperatura} ºC --> Temperatura OK\")\n",
        "        else:\n",
        "            print(\"ALERTA: Temperatura crítica!\")\n",
        "    elif fase == 2:\n",
        "        if 71 <= temperatura <= 90:\n",
        "            print(f\"Fase 2: {temperatura} ºC --> Temperatura OK\")\n",
        "        else:\n",
        "            print(\"ALERTA: Temperatura crítica!\")\n",
        "\n",
        "except ValueError as e:\n",
        "    print(\"Erro: Digite apenas números\")\n"
      ],
      "metadata": {
        "colab": {
          "base_uri": "https://localhost:8080/"
        },
        "id": "GDsvigD5AQtk",
        "outputId": "c12607c6-1af8-4d8a-b3e0-3a666f42091c"
      },
      "execution_count": null,
      "outputs": [
        {
          "output_type": "stream",
          "name": "stdout",
          "text": [
            "Digite a fase do processo (1 ou 2): 2\n",
            "Digite a temperatura atual (em ºC): 80\n",
            "Fase 2: 80.0 ºC --> Temperatura OK\n"
          ]
        }
      ]
    },
    {
      "cell_type": "markdown",
      "source": [
        "# Exercício de Loops (FOR/WHILE):"
      ],
      "metadata": {
        "id": "ah2Xq8mU8x9h"
      }
    },
    {
      "cell_type": "code",
      "source": [
        "# Constantes\n",
        "C0 = 10  # mol/L\n",
        "k = 0.1  # s^-1\n",
        "\n",
        "# Usando FOR\n",
        "print(\"Usando for:\")\n",
        "for t in range(0, 55, 5):  # de 0 até 50, de 5 em 5\n",
        "    C = C0 * math.exp(-k * t)\n",
        "    print(f\"t = {t}s —> C = {C:.2f} mol/L\")\n",
        "\n",
        "# Usando WHILE (até C < 1 mol/L)\n",
        "print(\"\\nUsando while:\")\n",
        "t = 0\n",
        "while True:\n",
        "    C = C0 * math.exp(-k * t)\n",
        "    print(f\"t = {t}s —> C = {C:.2f} mol/L\")\n",
        "    if C < 1:\n",
        "        break\n",
        "    t += 5"
      ],
      "metadata": {
        "id": "6AX2SWcC9AR6",
        "colab": {
          "base_uri": "https://localhost:8080/"
        },
        "outputId": "5496a586-c395-4093-fbd2-8f2a83acaa44"
      },
      "execution_count": null,
      "outputs": [
        {
          "output_type": "stream",
          "name": "stdout",
          "text": [
            "Usando for:\n",
            "t = 0s —> C = 10.00 mol/L\n",
            "t = 5s —> C = 6.07 mol/L\n",
            "t = 10s —> C = 3.68 mol/L\n",
            "t = 15s —> C = 2.23 mol/L\n",
            "t = 20s —> C = 1.35 mol/L\n",
            "t = 25s —> C = 0.82 mol/L\n",
            "t = 30s —> C = 0.50 mol/L\n",
            "t = 35s —> C = 0.30 mol/L\n",
            "t = 40s —> C = 0.18 mol/L\n",
            "t = 45s —> C = 0.11 mol/L\n",
            "t = 50s —> C = 0.07 mol/L\n",
            "\n",
            "Usando while:\n",
            "t = 0s —> C = 10.00 mol/L\n",
            "t = 5s —> C = 6.07 mol/L\n",
            "t = 10s —> C = 3.68 mol/L\n",
            "t = 15s —> C = 2.23 mol/L\n",
            "t = 20s —> C = 1.35 mol/L\n",
            "t = 25s —> C = 0.82 mol/L\n"
          ]
        }
      ]
    },
    {
      "cell_type": "markdown",
      "source": [
        "# Exercício de funções"
      ],
      "metadata": {
        "id": "nlEitSkLUZq6"
      }
    },
    {
      "cell_type": "code",
      "source": [
        "def calcular_pH(concentracao):\n",
        "    try:\n",
        "        if type(concentracao) != float and type(concentracao) != int:\n",
        "            raise ValueError\n",
        "        if concentracao <= 0:\n",
        "            return \"Erro: Concentração inválida: Concentração deve ser positiva.\"\n",
        "        pH = -math.log10(concentracao)\n",
        "        return round(pH)\n",
        "    except:\n",
        "        return \"Erro: Concentração inválida.\"\n",
        "\n",
        "# Exemplos\n",
        "print(calcular_pH(0.08))  # Saída: 2.0\n",
        "print(calcular_pH(\"abc\"))  # Saída: Erro: Concentração inválida."
      ],
      "metadata": {
        "colab": {
          "base_uri": "https://localhost:8080/"
        },
        "id": "UI4NUCGSUdIv",
        "outputId": "4d7105f7-47a8-40a8-d4ca-93baa1a351ea"
      },
      "execution_count": null,
      "outputs": [
        {
          "output_type": "stream",
          "name": "stdout",
          "text": [
            "1\n",
            "Erro: Concentração inválida.\n"
          ]
        }
      ]
    },
    {
      "cell_type": "code",
      "source": [
        "def calcular_pH(concentracao):\n",
        "    try:\n",
        "        # Tenta converter a entrada para float, caso seja string\n",
        "        concentracao = float(concentracao)\n",
        "\n",
        "        if concentracao <= 0:\n",
        "            return \"Erro: Concentração inválida: Concentração deve ser positiva.\"\n",
        "\n",
        "        pH = -math.log10(concentracao)\n",
        "        return round(pH, 2)  # arredonda para 2 casas decimais, se quiser\n",
        "\n",
        "    except (ValueError, TypeError):\n",
        "        return \"Erro: Concentração inválida.\"\n",
        "\n",
        "# Exemplos de teste:\n",
        "print(calcular_pH(0.01))     # Saída: 2.0\n",
        "print(calcular_pH(\"0.0001\")) # Saída: 4.0\n",
        "print(calcular_pH(\"abc\"))    # Saída: \"Erro: Concentração inválida.\"\n",
        "print(calcular_pH(None))     # Saída: \"Erro: Concentração inválida.\"\n",
        "print(calcular_pH(-0.5))     # Saída: \"Erro: Concentração inválida.\"\n"
      ],
      "metadata": {
        "colab": {
          "base_uri": "https://localhost:8080/"
        },
        "id": "hvGdCsAPVg1k",
        "outputId": "26c19ff5-5167-40c6-f235-2b851cc458b4"
      },
      "execution_count": null,
      "outputs": [
        {
          "output_type": "stream",
          "name": "stdout",
          "text": [
            "2.0\n",
            "4.0\n",
            "Erro: Concentração inválida.\n",
            "Erro: Concentração inválida.\n",
            "Erro: Concentração inválida: Concentração deve ser positiva.\n"
          ]
        }
      ]
    },
    {
      "cell_type": "markdown",
      "source": [
        "# Integração: Sistema de monitoramento (Condicionais + Loops + Funções)"
      ],
      "metadata": {
        "id": "YUoTIzltVAJO"
      }
    },
    {
      "cell_type": "code",
      "source": [
        "import random\n",
        "\n",
        "def gerar_temperatura():\n",
        "    return random.random() * 100\n",
        "\n",
        "def verificar_alarme(temp):\n",
        "    return temp < 20 or temp > 80\n",
        "\n",
        "alarmes = 0\n",
        "\n",
        "for minuto in range(5, 31, 5):\n",
        "    temperatura = gerar_temperatura()\n",
        "    if verificar_alarme(temperatura):\n",
        "        alarmes += 1\n",
        "        print(f\"Minuto {minuto}: {temperatura:.0f}°C — ALARME {alarmes}/3!\")\n",
        "        if alarmes == 3:\n",
        "            print(\"Parando monitoramento.\")\n",
        "            break\n",
        "    else:\n",
        "        print(f\"Minuto {minuto}: {temperatura:.0f}°C — OK\")"
      ],
      "metadata": {
        "colab": {
          "base_uri": "https://localhost:8080/"
        },
        "id": "CdrabucCVOfq",
        "outputId": "b5a3b49f-44a8-465d-82bd-110ff51d4832"
      },
      "execution_count": null,
      "outputs": [
        {
          "output_type": "stream",
          "name": "stdout",
          "text": [
            "Minuto 5: 71°C — OK\n",
            "Minuto 10: 21°C — OK\n",
            "Minuto 15: 77°C — OK\n",
            "Minuto 20: 39°C — OK\n",
            "Minuto 25: 51°C — OK\n",
            "Minuto 30: 51°C — OK\n"
          ]
        }
      ]
    },
    {
      "cell_type": "code",
      "source": [
        "import random  # Biblioteca para gerar número aleatório\n",
        "\n",
        "def gerar_pressao():\n",
        "    return random.random() * 100\n",
        "\n",
        "def verificar_alarme(pressao):\n",
        "    return pressao < 2.0 or pressao > 5.0\n",
        "\n",
        "alarmes = 0\n",
        "\n",
        "for minuto in range(2, 21, 2):\n",
        "    pressao = gerar_pressao()\n",
        "    if verificar_alarme(pressao):\n",
        "        alarmes += 1\n",
        "        print(f\"Minuto {minuto}: {pressao:.0f} — ALARME {alarmes}/3!\")\n",
        "        if alarmes == 3:\n",
        "            print(\"Parando monitoramento.\")\n",
        "            break\n",
        "    else:\n",
        "        print(f\"Minuto {minuto}: {pressao:.0f} — OK\")\n"
      ],
      "metadata": {
        "colab": {
          "base_uri": "https://localhost:8080/"
        },
        "id": "gVhelgNmq-BO",
        "outputId": "0a92673e-0094-4513-d457-3d8af34c5fa5"
      },
      "execution_count": null,
      "outputs": [
        {
          "output_type": "stream",
          "name": "stdout",
          "text": [
            "Minuto 2: 29°C — ALARME 1/3!\n",
            "Minuto 4: 21°C — ALARME 2/3!\n",
            "Minuto 6: 89°C — ALARME 3/3!\n",
            "Parando monitoramento.\n"
          ]
        }
      ]
    },
    {
      "cell_type": "code",
      "source": [
        "import random\n",
        "\n",
        "def gerar_pressao() -> float:\n",
        "    \"\"\"\n",
        "    Gera um valor aleatório de pressão entre 1.0 e 6.0 bar.\n",
        "    \"\"\"\n",
        "    return round(random.uniform(1.0, 6.0), 1)\n",
        "\n",
        "def verificar_alarme(pressao: float) -> bool:\n",
        "    \"\"\"\n",
        "    Verifica se a pressão está fora da faixa segura (2.0 a 5.0 bar).\n",
        "    Retorna True se um alarme deve ser ativado.\n",
        "    \"\"\"\n",
        "    return pressao < 2.0 or pressao > 5.0\n",
        "\n",
        "def exibir_status(leitura: int, pressao: float, alarmes: int, status: str) -> None:\n",
        "    \"\"\"\n",
        "    Exibe as informações da leitura atual formatadas.\n",
        "    \"\"\"\n",
        "    print(f\"Leitura {leitura}: Pressão = {pressao:.1f} bar, Alarmes Ativados = {alarmes}/3, Sistema = {status}\")\n",
        "\n",
        "def monitorar_sistema(duracao_min: int = 20, intervalo_min: int = 2) -> None:\n",
        "    \"\"\"\n",
        "    Monitora a pressão do sistema por uma duração definida, com leituras a cada intervalo.\n",
        "    Interrompe o sistema após 3 alarmes.\n",
        "    \"\"\"\n",
        "    alarmes = 0\n",
        "    leitura = 1\n",
        "    for minuto in range(intervalo_min, duracao_min + 1, intervalo_min):\n",
        "        pressao = gerar_pressao()\n",
        "        if verificar_alarme(pressao):\n",
        "            alarmes += 1\n",
        "        status = \"Interrompido\" if alarmes >= 3 else \"Operando\"\n",
        "        exibir_status(leitura, pressao, alarmes, status)\n",
        "        if alarmes >= 3:\n",
        "            break\n",
        "        leitura += 1\n",
        "\n",
        "# Execução principal\n",
        "monitorar_sistema()\n"
      ],
      "metadata": {
        "colab": {
          "base_uri": "https://localhost:8080/"
        },
        "id": "xtxx1I1xrWR5",
        "outputId": "1635a1fb-db81-431a-f7ab-cbe1789fa843"
      },
      "execution_count": null,
      "outputs": [
        {
          "output_type": "stream",
          "name": "stdout",
          "text": [
            "Leitura 1: Pressão = 4.6 bar, Alarmes Ativados = 0/3, Sistema = Operando\n",
            "Leitura 2: Pressão = 2.5 bar, Alarmes Ativados = 0/3, Sistema = Operando\n",
            "Leitura 3: Pressão = 4.0 bar, Alarmes Ativados = 0/3, Sistema = Operando\n",
            "Leitura 4: Pressão = 4.7 bar, Alarmes Ativados = 0/3, Sistema = Operando\n",
            "Leitura 5: Pressão = 1.6 bar, Alarmes Ativados = 1/3, Sistema = Operando\n",
            "Leitura 6: Pressão = 1.6 bar, Alarmes Ativados = 2/3, Sistema = Operando\n",
            "Leitura 7: Pressão = 4.7 bar, Alarmes Ativados = 2/3, Sistema = Operando\n",
            "Leitura 8: Pressão = 3.6 bar, Alarmes Ativados = 2/3, Sistema = Operando\n",
            "Leitura 9: Pressão = 5.5 bar, Alarmes Ativados = 3/3, Sistema = Interrompido\n"
          ]
        }
      ]
    }
  ]
}