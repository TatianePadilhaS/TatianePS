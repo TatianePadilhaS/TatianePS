{
  "nbformat": 4,
  "nbformat_minor": 0,
  "metadata": {
    "colab": {
      "provenance": [],
      "authorship_tag": "ABX9TyNrblpDfJjGO0huoRCAppSS",
      "include_colab_link": true
    },
    "kernelspec": {
      "name": "python3",
      "display_name": "Python 3"
    },
    "language_info": {
      "name": "python"
    }
  },
  "cells": [
    {
      "cell_type": "markdown",
      "metadata": {
        "id": "view-in-github",
        "colab_type": "text"
      },
      "source": [
        "<a href=\"https://colab.research.google.com/github/TatianePadilhaS/TatianePS/blob/main/p2_python_tatiane_padilha.ipynb\" target=\"_parent\"><img src=\"https://colab.research.google.com/assets/colab-badge.svg\" alt=\"Open In Colab\"/></a>"
      ]
    },
    {
      "cell_type": "markdown",
      "source": [
        "# Questão 1"
      ],
      "metadata": {
        "id": "7WBF53in_Bhr"
      }
    },
    {
      "cell_type": "markdown",
      "source": [
        "## a)\n",
        "A principal diferença entre a Programação Orientada a Equações (POE) e a programação imperativa está ligada ao foco e ao controle de resolução. Pois, na programação imperativa, o papel do programador é construir um passo a passo detalhado de como o computador deve fazer para chegar à solução do problema, ou seja, ele define como o problema será resolvido, controlando diretamente o fluxo do programa. E a solução é obtida pela execução dessas instruções fornecidas em uma determinada ordem. Ou seja, se quero calcular uma equação em que x = y + z, preciso conhecer os valores de y e z para calcular x de forma explícita.\n",
        "\n",
        "Por outro lado, na POE, o papel do programador é declarar as equações que descrevem o problema, sem se preocupar com a ordem de execução ou os passos intermediários. O foco, nesse caso, é o que precisa ser resolvido. Para encontrar a solução do problema, é usado um algoritmo especializado, que é o solver. Ele vai analisar o conjunto de equações e determinar as variáveis desconhecidas que vão satisfazer todas as relações simultaneamente. Voltando ao exemplo anterior, se eu quiser saber o valor de x da equação x = y + z, não é preciso conhecer y e z; o solver consegue encontrar o valor de qualquer uma das variáveis apenas declarando as equações.\n",
        "\n"
      ],
      "metadata": {
        "id": "iwLvcBYs_e_7"
      }
    },
    {
      "cell_type": "markdown",
      "source": [
        "## b)\n",
        "A POE é mais vantajosa em problemas de engenharia que exigem a modelagem matemática de sistemas físicos, especialmente quando há múltiplas variáveis relacionadas por equações algébricas ou diferenciais. Isso é comum em situações como balanços de massa e energia, simulações de processos contínuos, e modelagem de equipamentos de troca térmica ou reatores.\n",
        "\n",
        "Um exemplo prático é a modelagem do desempenho térmico de um trocador de calor, pois nesse sitema o objetivo é de transferir calor de um fluido quente para um fluido frio, sem mistura, apenas usando uma superfície de troca térmica. As equações envolvidas no processo são os balanços de energia, as euqações de taxa de calor e as relações para calcular o coeficiente global de troca de calor, pois ele é encontrado através de relações mais complexas e não lineares. Assim, em POE todas essas equações necessárias que descreevem as relações entre as temperaturas de entrada e saída dos fluidos, as vazões, propriedades térmicas e as dimensões do trocador seriam declaradas. Por fim, usando o solver seria possível dimensionar a área de troca térmica necessária para alcançar temperaturas de saídas desejadas, além disso, é possível simular o desempenho de um trocador de calor sob diferentes condições operacionais e analisar a sensibilidade do desempenho a variações nas propriedades dos fluidos ou incrustrações."
      ],
      "metadata": {
        "id": "Daq7fCP0_ikC"
      }
    },
    {
      "cell_type": "markdown",
      "source": [
        "## c)\n",
        "\n",
        "O princípio da flexibilidade na POE significa que um mesmo conjunto de euqações pode ser resolvido para diferentes variáveis desconhecidas, sem a necessidade de reescrever o código do modelo.\n",
        "\n",
        "Na prática isso quer dizer que se você tem um sistema de equações que descrevem um processo, como o funcionamento de um reator, quando se conhece as condições de entrada e os parâmetros do reator, a POE permite calcular as concentrações de saída e a conversão. E usando o solver é possível obter a temperatura de entrada ou volume para atingir uma determinada concentração de saída e uma conversão. Assim, quando se tem dados experimentais de entrada e saídas, pode usar a flexibilidade da POE para ajustar os parâmetros do modelo que melhor se encaixam nesses dados.\n",
        "\n",
        "Para o engenhero químico essa flexibilidade é muito útil por permitir, o rápido dimensionamento de equipamentos a partir de metas de desempenho, sem a necessidade de alterar a estrutura do código. Ela também favorece a análise de sensibilidade, permitindo observar como pequenas mudanças nas variáveis de entrada ou nos parâmetros influenciam as saídas do sistema. Além disso, torna-se uma ferramenta essencial em etapas de otimização e controle de processos, ao possibilitar que o engenheiro determine as melhores condições operacionais para alcançar objetivos mais específicos."
      ],
      "metadata": {
        "id": "uFraD8Pc_kvW"
      }
    },
    {
      "cell_type": "markdown",
      "source": [
        "# Questão 2"
      ],
      "metadata": {
        "id": "StvOlxz3_n_m"
      }
    },
    {
      "cell_type": "markdown",
      "source": [
        "## a)\n",
        "\n",
        "A estrutura @dataclass é um decorador que automatiza a criação de classes cujo principal objetivo é armazenar dados. Seu papel na organização de códigos é de simplificar a criação de classes de dados, ela permite declarar atributos de forma clara e automática, sem a necessidade de escrever métodos como inicialização, representação, comparação ou outros, deixando o código mais limpo e legível. Em sistemas que apresentam muitos parâmetros de entrada, como é o caso de modelos matemáticos, a estrutura @dataclass é muito útil, pois vai ser utilizada para centralizar todos os parâmetros em uma única estrutura, facilitando a leitura, manutenção e alteração do código, além de reduzir erros ao manipular grande volume de dados, tornando o desenvolvimento mais eficiente e organizado."
      ],
      "metadata": {
        "id": "CedXjuay_q1t"
      }
    },
    {
      "cell_type": "markdown",
      "source": [
        "## b)\n",
        "\n",
        "Recomenda-se salvar as soluções computacionais em repositórios de controle de versão como o GitHub, por sua capacidade de gerenciar o histórico de um projeto, facilitar a colaboração e garantir a segurança do código.\n",
        "Primeiramente, um dos motivos é porque o GitHub mantém um histórico completo e detalhado de cada alteração feita no código, isso permite reverter para qualquer versão anterior do código a qualquer momento. Proffissionalmente, ao desenvolver um software é comum cometer erros, assim com o controle de versão é possível que seja testado novas ideias sem medo de quebrar o código existente, se alguma coisa der errado tem como voltar para a versão anterior e não tem perda de progresso.\n",
        "\n",
        "Além disso, o GitHub foi projetado para facilitar a colaboração entre múltiplos desenvolvedores ou pesquisadores, ele permite que várias pessoas trabalhem no mesmo código simultamneamente, unindo as suas contribuições e facilitando para resolver os problemas de forma mais estruturada. Na prática, isso émuito eficaz, pois em equipes de egenharias ou grupos de pesquisa isso facilita a colaboração, uma vez que, o GitHub centraliza o código, permitando que membros da equipe compartilhem, revisem e integrem seu trabalho de maneira mais organizada, muito importante para projetos interdisciplinares em empresas onde a colaboração da equipe é fundamental.\n",
        "\n",
        "Por fim, como o código fica armazenado na nuvem , ele funciona como um backup seguro e acessível de qaulquer lugar com conexão à internet, isso elimina o risco de perda de dados devido a falhas de harware locais, além disso, um repositório no GitHub serve como um portifólio público dos projetos, pois mais pessoas podem ter acesso. Na prática, é comum perder o trabalho de meses ou anos devido a uma falha o que pode ser muito ruim, assim, como o GitHub oferece essa segurança ele é melhor para ser utilizado pelos estudantes ou profissionais, pois tendo um perfil no GitHub pode deixar seus projetos bem organizados e de fácil acesso para que outras pessoas possam acessar, sendo um diferencial em processos seletivos, pois é mais fácil dos avaliadores acessar seu perfil e olhar suas habilidades técnicas e trabalhos realizados."
      ],
      "metadata": {
        "id": "BgQNAuYC_we1"
      }
    },
    {
      "cell_type": "markdown",
      "source": [
        "# Questão 3"
      ],
      "metadata": {
        "id": "rdUtNMQW_yhJ"
      }
    },
    {
      "cell_type": "code",
      "source": [
        "import numpy as np\n",
        "from scipy.integrate import solve_ivp\n",
        "import matplotlib.pyplot as plt\n",
        "from dataclasses import dataclass\n",
        "\n",
        "# Parâmetros do sistema\n",
        "@dataclass\n",
        "class ParametrosFermentacao:\n",
        "    concentracao_inicial: float  # g/L\n",
        "    duracao_horas: int           # horas\n",
        "    temperatura: float           # °C\n",
        "\n",
        "# Constante cinética (k) em função da temperatura\n",
        "def constante_cinetica(temperatura: float) -> float:\n",
        "    \"\"\"\n",
        "    Calcula a constante cinética k (L/min) baseada na temperatura em °C.\n",
        "    \"\"\"\n",
        "    k = 464.8 * np.exp(-3985 / (temperatura + 273))\n",
        "    return k\n",
        "\n",
        "# Modelo da fermentação\n",
        "def modelo_fermentacao(t: float, S: float, temperatura: float) -> float:\n",
        "    \"\"\"\n",
        "    Define a equação diferencial da taxa de consumo de glicose: dS/dt = -k(T) * S.\n",
        "    \"\"\"\n",
        "    k = constante_cinetica(temperatura)\n",
        "    dSdt = -k * S\n",
        "    return dSdt\n",
        "\n",
        "# Simulação da fermentação\n",
        "def simular_fermentacao(param: ParametrosFermentacao):\n",
        "    \"\"\"\n",
        "    Resolve numericamente a EDO para o consumo de glicose com base nos parâmetros fornecidos.\n",
        "    \"\"\"\n",
        "    duracao_min = param.duracao_horas * 60\n",
        "    t_avaliacao = np.linspace(0, duracao_min, 500)\n",
        "\n",
        "    solucao = solve_ivp(\n",
        "        fun=lambda t, S: modelo_fermentacao(t, S, param.temperatura),\n",
        "        y0=[param.concentracao_inicial],\n",
        "        t_span=[0, duracao_min],\n",
        "        t_eval=t_avaliacao\n",
        "    )\n",
        "\n",
        "    return solucao\n",
        "\n",
        "# Fermentação a 35°C\n",
        "fermentacao_35 = ParametrosFermentacao(concentracao_inicial=100, duracao_horas=24, temperatura=35)\n",
        "resultado_35 = simular_fermentacao(fermentacao_35)\n",
        "\n",
        "# Fermentação a 50°C\n",
        "fermentacao_50 = ParametrosFermentacao(concentracao_inicial=100, duracao_horas=24, temperatura=50)\n",
        "resultado_50 = simular_fermentacao(fermentacao_50)\n",
        "\n",
        "# Resultados numéricos\n",
        "conc_final_35 = resultado_35.y[0, -1]\n",
        "conc_final_50 = resultado_50.y[0, -1]\n",
        "\n",
        "print(f\"Temperatura {fermentacao_35.temperatura}°C → Concentração final: {conc_final_35:.4f} g/L\")\n",
        "print(f\"Temperatura {fermentacao_50.temperatura}°C → Concentração final: {conc_final_50:.4f} g/L\")\n",
        "\n",
        "# Visualização dos resultados\n",
        "plt.figure(figsize=(10, 6))\n",
        "plt.plot(resultado_35.t / 60, resultado_35.y[0], label=f'{fermentacao_35.temperatura}°C')\n",
        "plt.plot(resultado_50.t / 60, resultado_50.y[0], label=f'{fermentacao_50.temperatura}°C', linestyle='--')\n",
        "plt.xlabel('Tempo (horas)')\n",
        "plt.ylabel('Concentração de Glicose (g/L)')\n",
        "plt.title('Consumo de Glicose durante a Fermentação')\n",
        "plt.grid(True)\n",
        "plt.legend()\n",
        "plt.show()\n",
        "\n",
        "# Função help\n",
        "def help_fermentacao():\n",
        "    texto = \"\"\"\n",
        "    === AJUDA: Modelo de Fermentação ===\n",
        "\n",
        "    1. Importações:\n",
        "       - numpy: operações matemáticas e vetores de tempo.\n",
        "       - scipy.integrate.solve_ivp: resolve a equação diferencial do consumo de glicose.\n",
        "       - matplotlib.pyplot: gera gráficos da concentração.\n",
        "       - dataclasses.dataclass: define estrutura organizada para os parâmetros.\n",
        "\n",
        "    2. Classe ParametrosFermentacao:\n",
        "       - Armazena os dados de entrada da simulação:\n",
        "         • concentracao_inicial (g/L)\n",
        "         • duracao_horas\n",
        "         • temperatura (°C)\n",
        "\n",
        "    3. constante_cinetica(temperatura):\n",
        "       - Calcula a constante cinética k (L/min) com base na temperatura.\n",
        "       - Usa uma equação tipo Arrhenius: k = 464.8 * exp(-3985 / (T + 273))\n",
        "\n",
        "    4. modelo_fermentacao(t, S, temperatura):\n",
        "       - Define a EDO: dS/dt = -k * S\n",
        "       - Modela o consumo de glicose S ao longo do tempo.\n",
        "\n",
        "    5. simular_fermentacao(param):\n",
        "       - Converte horas para minutos.\n",
        "       - Cria um vetor de tempo e resolve numericamente a EDO usando solve_ivp.\n",
        "\n",
        "    6. fermentacao_35 / fermentacao_50:\n",
        "       - Executa a simulação para 35°C e 50°C.\n",
        "\n",
        "    7. resultado_35 / resultado_50:\n",
        "       - Armazena as soluções do consumo de glicose com o tempo.\n",
        "\n",
        "    8. Impressão:\n",
        "       - Mostra a concentração final de glicose após 24h para cada temperatura.\n",
        "\n",
        "    9. Gráfico:\n",
        "       - Compara a concentração de glicose ao longo do tempo para 35°C e 50°C.\n",
        "       - Eixo X: tempo (horas), Eixo Y: concentração (g/L)\n",
        "\n",
        "    ================================\n",
        "    \"\"\"\n",
        "    print(texto)\n",
        "\n"
      ],
      "metadata": {
        "colab": {
          "base_uri": "https://localhost:8080/",
          "height": 599
        },
        "id": "BiW7zMzZ6tH4",
        "outputId": "9a009068-6f09-4844-a04f-7dd56286b0e3"
      },
      "execution_count": 10,
      "outputs": [
        {
          "output_type": "stream",
          "name": "stdout",
          "text": [
            "Temperatura 35°C → Concentração final: 20.0184 g/L\n",
            "Temperatura 50°C → Concentração final: 5.3215 g/L\n"
          ]
        },
        {
          "output_type": "display_data",
          "data": {
            "text/plain": [
              "<Figure size 1000x600 with 1 Axes>"
            ],
            "image/png": "[encoded data removed]"
          },
          "metadata": {}
        }
      ]
    },
    {
      "cell_type": "code",
      "source": [
        "help_fermentacao()\n"
      ],
      "metadata": {
        "colab": {
          "base_uri": "https://localhost:8080/"
        },
        "id": "ajCkNwO2QMdx",
        "outputId": "5ae7c13e-a223-447b-bb8b-9aca13658540"
      },
      "execution_count": 11,
      "outputs": [
        {
          "output_type": "stream",
          "name": "stdout",
          "text": [
            "\n",
            "    === AJUDA: Modelo de Fermentação ===\n",
            "\n",
            "    1. Importações:\n",
            "       - numpy: operações matemáticas e vetores de tempo.\n",
            "       - scipy.integrate.solve_ivp: resolve a equação diferencial do consumo de glicose.\n",
            "       - matplotlib.pyplot: gera gráficos da concentração.\n",
            "       - dataclasses.dataclass: define estrutura organizada para os parâmetros.\n",
            "\n",
            "    2. Classe ParametrosFermentacao:\n",
            "       - Armazena os dados de entrada da simulação:\n",
            "         • concentracao_inicial (g/L)\n",
            "         • duracao_horas\n",
            "         • temperatura (°C)\n",
            "\n",
            "    3. constante_cinetica(temperatura):\n",
            "       - Calcula a constante cinética k (L/min) com base na temperatura.\n",
            "       - Usa uma equação tipo Arrhenius: k = 464.8 * exp(-3985 / (T + 273))\n",
            "\n",
            "    4. modelo_fermentacao(t, S, temperatura):\n",
            "       - Define a EDO: dS/dt = -k * S\n",
            "       - Modela o consumo de glicose S ao longo do tempo.\n",
            "\n",
            "    5. simular_fermentacao(param):\n",
            "       - Converte horas para minutos.\n",
            "       - Cria um vetor de tempo e resolve numericamente a EDO usando solve_ivp.\n",
            "\n",
            "    6. fermentacao_35 / fermentacao_50:\n",
            "       - Executa a simulação para 35°C e 50°C.\n",
            "\n",
            "    7. resultado_35 / resultado_50:\n",
            "       - Armazena as soluções do consumo de glicose com o tempo.\n",
            "\n",
            "    8. Impressão:\n",
            "       - Mostra a concentração final de glicose após 24h para cada temperatura.\n",
            "\n",
            "    9. Gráfico:\n",
            "       - Compara a concentração de glicose ao longo do tempo para 35°C e 50°C.\n",
            "       - Eixo X: tempo (horas), Eixo Y: concentração (g/L)\n",
            "\n",
            "    ================================\n",
            "    \n"
          ]
        }
      ]
    },
    {
      "cell_type": "markdown",
      "source": [
        "# Questão 4"
      ],
      "metadata": {
        "id": "8LjR_FeC_38v"
      }
    },
    {
      "cell_type": "code",
      "source": [
        "from dataclasses import dataclass\n",
        "\n",
        "# Representa um estágio da coluna de destilação\n",
        "@dataclass\n",
        "class EstagioDestilacao:\n",
        "    numero: int      # Número do estágio (1, 2, 3...)\n",
        "    xi: float        # Fração molar líquida de etanol\n",
        "    temperatura: float  # Temperatura em °C\n",
        "\n",
        "# Calcula a seletividade α com base na temperatura\n",
        "def calcular_alpha(temperatura: float) -> float:\n",
        "    \"\"\"\n",
        "    Retorna a seletividade α(T) = 2.5 - 0.01*(T - 78)\n",
        "    \"\"\"\n",
        "    return 2.5 - 0.01 * (temperatura - 78)\n",
        "\n",
        "# Calcula a fração de equilíbrio no vapor (yi) a partir de xi e T\n",
        "def calcular_yi(xi: float, temperatura: float) -> float:\n",
        "    \"\"\"\n",
        "    Calcula a fração molar no vapor usando a equação:\n",
        "    yi = (α * xi) / [1 + (α - 1) * xi]\n",
        "    \"\"\"\n",
        "    alpha = calcular_alpha(temperatura)\n",
        "    return (alpha * xi) / (1 + (alpha - 1) * xi)\n",
        "\n",
        "# Lista com os dados dos estágios\n",
        "estagios = [\n",
        "    EstagioDestilacao(numero=1, xi=0.20, temperatura=78),\n",
        "    EstagioDestilacao(numero=2, xi=0.40, temperatura=80),\n",
        "    EstagioDestilacao(numero=3, xi=0.60, temperatura=85)\n",
        "]\n",
        "\n",
        "# Exibição dos resultados\n",
        "print(f\"{'Estágio':<8}{'xi':<8}{'T (°C)':<10}{'α':<8}{'yi':<8}\")\n",
        "for estagio in estagios:\n",
        "    alpha = calcular_alpha(estagio.temperatura)\n",
        "    yi = calcular_yi(estagio.xi, estagio.temperatura)\n",
        "    print(f\"{estagio.numero:<8}{estagio.xi:<8.2f}{estagio.temperatura:<10.1f}{alpha:<8.2f}{yi:<8.3f}\")\n",
        "\n",
        "# Função help\n",
        "def help_destilacao():\n",
        "    texto = \"\"\"\n",
        "    === AJUDA: Modelo de Equilíbrio em Coluna de Destilação ===\n",
        "\n",
        "    1. Objetivo:\n",
        "       - Simular o equilíbrio líquido-vapor em uma coluna de destilação com três estágios,\n",
        "         separando uma mistura etanol/água.\n",
        "       - A seletividade α depende da temperatura em cada estágio.\n",
        "\n",
        "    2. Classe EstagioDestilacao:\n",
        "       - Armazena os dados de entrada para cada estágio:\n",
        "         • numero: posição do estágio na coluna (ex: topo, alimentação, fundo)\n",
        "         • xi: fração molar líquida de etanol no estágio\n",
        "         • temperatura: temperatura em °C no estágio\n",
        "\n",
        "    3. calcular_alpha(temperatura):\n",
        "       - Função que retorna a seletividade α com base na equação:\n",
        "         α(T) = 2.5 - 0.01 * (T - 78)\n",
        "       - A seletividade diminui com o aumento da temperatura.\n",
        "\n",
        "    4. calcular_yi(xi, temperatura):\n",
        "       - Calcula a fração molar de etanol no vapor (yi) em equilíbrio com a fase líquida.\n",
        "       - Equação usada:\n",
        "         yi = (α * xi) / [1 + (α - 1) * xi]\n",
        "\n",
        "    5. Lista 'estagios':\n",
        "       - Contém os dados dos 3 estágios:\n",
        "         • Estágio 1 (topo): xi = 0.20, T = 78 °C\n",
        "         • Estágio 2 (alimentação): xi = 0.40, T = 80 °C\n",
        "         • Estágio 3 (fundo): xi = 0.60, T = 85 °C\n",
        "\n",
        "    6. Impressão dos Resultados:\n",
        "       - Para cada estágio, o código calcula e exibe:\n",
        "         • αi: seletividade em função da temperatura\n",
        "         • yi: fração molar no vapor em equilíbrio\n",
        "\n",
        "    7. Saída esperada no terminal:\n",
        "       - Uma tabela com colunas:\n",
        "         Estágio | xi | T (°C) | α | yi\n",
        "\n",
        "    ================================\n",
        "    \"\"\"\n",
        "    print(texto)\n"
      ],
      "metadata": {
        "colab": {
          "base_uri": "https://localhost:8080/"
        },
        "id": "HNH5kiiZ7fgy",
        "outputId": "f332af45-60b0-44ba-8694-7060e7b28bd0"
      },
      "execution_count": 15,
      "outputs": [
        {
          "output_type": "stream",
          "name": "stdout",
          "text": [
            "Estágio xi      T (°C)    α       yi      \n",
            "1       0.20    78.0      2.50    0.385   \n",
            "2       0.40    80.0      2.48    0.623   \n",
            "3       0.60    85.0      2.43    0.785   \n"
          ]
        }
      ]
    },
    {
      "cell_type": "code",
      "source": [
        "help_destilacao()\n"
      ],
      "metadata": {
        "colab": {
          "base_uri": "https://localhost:8080/"
        },
        "id": "gVZnGLczQUta",
        "outputId": "64936e6c-636f-4e62-c57e-2f32e71ebdd9"
      },
      "execution_count": 16,
      "outputs": [
        {
          "output_type": "stream",
          "name": "stdout",
          "text": [
            "\n",
            "    === AJUDA: Modelo de Equilíbrio em Coluna de Destilação ===\n",
            "\n",
            "    1. Objetivo:\n",
            "       - Simular o equilíbrio líquido-vapor em uma coluna de destilação com três estágios,\n",
            "         separando uma mistura etanol/água.\n",
            "       - A seletividade α depende da temperatura em cada estágio.\n",
            "\n",
            "    2. Classe EstagioDestilacao:\n",
            "       - Armazena os dados de entrada para cada estágio:\n",
            "         • numero: posição do estágio na coluna (ex: topo, alimentação, fundo)\n",
            "         • xi: fração molar líquida de etanol no estágio\n",
            "         • temperatura: temperatura em °C no estágio\n",
            "\n",
            "    3. calcular_alpha(temperatura):\n",
            "       - Função que retorna a seletividade α com base na equação:\n",
            "         α(T) = 2.5 - 0.01 * (T - 78)\n",
            "       - A seletividade diminui com o aumento da temperatura.\n",
            "\n",
            "    4. calcular_yi(xi, temperatura):\n",
            "       - Calcula a fração molar de etanol no vapor (yi) em equilíbrio com a fase líquida.\n",
            "       - Equação usada:\n",
            "         yi = (α * xi) / [1 + (α - 1) * xi]\n",
            "\n",
            "    5. Lista 'estagios':\n",
            "       - Contém os dados dos 3 estágios:\n",
            "         • Estágio 1 (topo): xi = 0.20, T = 78 °C\n",
            "         • Estágio 2 (alimentação): xi = 0.40, T = 80 °C\n",
            "         • Estágio 3 (fundo): xi = 0.60, T = 85 °C\n",
            "\n",
            "    6. Impressão dos Resultados:\n",
            "       - Para cada estágio, o código calcula e exibe:\n",
            "         • αi: seletividade em função da temperatura\n",
            "         • yi: fração molar no vapor em equilíbrio\n",
            "\n",
            "    7. Saída esperada no terminal:\n",
            "       - Uma tabela com colunas:\n",
            "         Estágio | xi | T (°C) | α | yi\n",
            "\n",
            "    ================================\n",
            "    \n"
          ]
        }
      ]
    }
  ]
}